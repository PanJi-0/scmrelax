{
 "cells": [
  {
   "cell_type": "markdown",
   "metadata": {},
   "source": [
    "# Example usage\n",
    "\n",
    "Here we demonstrate how to use `scmrelax` package to construct the counterfactual of the treated unit using relaxed balancing estimators.\n",
    "\n",
    "we examine the impact of the 2016 Brexit referendum on the United Kingdom’s GDP. On June 23, 2016, a referendum on the UK’s membership in the European\n",
    "Union resulted in 51.89% of voters favoring departure, triggering a withdrawal process that concluded on January 31, 2020. The referendum’s outcome was largely unexpected by markets. It prompts us to designate the third quarter of 2016 as the starting point for analyzing its effects. \n",
    "\n",
    "We estimate the combination weights using YOY growth rate of quarterly GDP by 1. synthetic control (SCM), 2. EL-SCM-relaxation, 3. Entropy-SCM-relaxation, 4. $L_2$-SCM-relaxtion. Then we use the esimated weights to construct the counterfactual GDP growth rate.\n"
   ]
  },
  {
   "cell_type": "markdown",
   "metadata": {},
   "source": [
    "## Import"
   ]
  },
  {
   "cell_type": "code",
   "execution_count": 4,
   "metadata": {},
   "outputs": [
    {
     "ename": "ModuleNotFoundError",
     "evalue": "No module named 'scmrelax'",
     "output_type": "error",
     "traceback": [
      "\u001b[1;31m---------------------------------------------------------------------------\u001b[0m",
      "\u001b[1;31mModuleNotFoundError\u001b[0m                       Traceback (most recent call last)",
      "Cell \u001b[1;32mIn[4], line 1\u001b[0m\n\u001b[1;32m----> 1\u001b[0m \u001b[38;5;28;01mimport\u001b[39;00m \u001b[38;5;21;01mscmrelax\u001b[39;00m\n\u001b[0;32m      3\u001b[0m \u001b[38;5;28mprint\u001b[39m(scmrelax\u001b[38;5;241m.\u001b[39m__version__)\n",
      "\u001b[1;31mModuleNotFoundError\u001b[0m: No module named 'scmrelax'"
     ]
    }
   ],
   "source": [
    "import scmrelax\n",
    "\n",
    "print(scmrelax.__version__)"
   ]
  },
  {
   "cell_type": "markdown",
   "metadata": {},
   "source": [
    "## Setup and Imports"
   ]
  },
  {
   "cell_type": "code",
   "execution_count": 2,
   "metadata": {},
   "outputs": [],
   "source": [
    "import numpy as np\n",
    "import matplotlib.pyplot as plt\n",
    "import seaborn as sns\n",
    "import warnings\n",
    "import pandas as pd\n",
    "\n",
    "# Set plotting style\n",
    "plt.style.use('seaborn-v0_8-paper')\n",
    "sns.set_style(\"whitegrid\")\n",
    "sns.set_context(\"notebook\", font_scale=1.2)\n",
    "\n",
    "# Suppress warnings\n",
    "warnings.filterwarnings(\"ignore\")"
   ]
  },
  {
   "cell_type": "markdown",
   "metadata": {},
   "source": [
    "# Data preprocessing\n",
    "The processed_GDP.csv can be found in the folder."
   ]
  },
  {
   "cell_type": "code",
   "execution_count": 8,
   "metadata": {},
   "outputs": [
    {
     "name": "stdout",
     "output_type": "stream",
     "text": [
      "(Pre-treatment periods, Donor pool size):  (51, 57)\n"
     ]
    }
   ],
   "source": [
    "# Read the preprocessed data\n",
    "GDP = pd.read_csv('processed_GDP_data.csv', index_col=0, parse_dates=True)\n",
    "\n",
    "# Calculate GDP growth rate\n",
    "GDP_growth = 100*GDP.pct_change(4).dropna()\n",
    "\n",
    "# Define the function to prepare the data\n",
    "def prepare_data(GDP_growth, target_country, pre_treat_date):\n",
    "    \"\"\"Prepare data for synthetic control analysis.\"\"\"\n",
    "    y = GDP_growth[target_country]\n",
    "    X = GDP_growth.drop(target_country, axis=1)\n",
    "    \n",
    "    y_pre = y.loc[:pre_treat_date]\n",
    "    X_pre = X.loc[:pre_treat_date]\n",
    "    country_list = X_pre.columns\n",
    "    \n",
    "    return (y.to_numpy(), X.to_numpy(), \n",
    "            y_pre.to_numpy(), X_pre.to_numpy(), \n",
    "            country_list)\n",
    "\n",
    "# Prepare data for analysis\n",
    "target_country = 'United Kingdom'\n",
    "pre_treat_q = '2016-06-30'\n",
    "treat_q = '2016-09-30'\n",
    "\n",
    "y, X, y_pre, X_pre, country_list = prepare_data(\n",
    "    GDP_growth, target_country, pre_treat_q\n",
    ")\n",
    "\n",
    "# print the sample size and the size of the donor pool\n",
    "print(\"(Pre-treatment periods, Donor pool size): \", X_pre.shape)"
   ]
  },
  {
   "cell_type": "markdown",
   "metadata": {},
   "source": [
    "## Estimate the weights and construct the counterfactual growth rates"
   ]
  },
  {
   "cell_type": "code",
   "execution_count": 9,
   "metadata": {},
   "outputs": [
    {
     "ename": "NameError",
     "evalue": "name 'scmrelax' is not defined",
     "output_type": "error",
     "traceback": [
      "\u001b[1;31m---------------------------------------------------------------------------\u001b[0m",
      "\u001b[1;31mNameError\u001b[0m                                 Traceback (most recent call last)",
      "Cell \u001b[1;32mIn[9], line 1\u001b[0m\n\u001b[1;32m----> 1\u001b[0m results \u001b[38;5;241m=\u001b[39m \u001b[43mscmrelax\u001b[49m\u001b[38;5;241m.\u001b[39mfit(X_pre, y_pre, X)\n",
      "\u001b[1;31mNameError\u001b[0m: name 'scmrelax' is not defined"
     ]
    }
   ],
   "source": [
    "results = scmrelax.fit(X_pre, y_pre, X)"
   ]
  },
  {
   "cell_type": "markdown",
   "metadata": {},
   "source": [
    "## Evaluate the in-sample empirical risks"
   ]
  },
  {
   "cell_type": "code",
   "execution_count": 8,
   "metadata": {},
   "outputs": [
    {
     "name": "stdout",
     "output_type": "stream",
     "text": [
      "In Sample Empirical Risks:\n",
      "SCM: 0.6822\n",
      "EL-SCM-Relaxation: 1.4765\n",
      "Entropy-SCM-Relaxation: 1.2837\n",
      "L2-SCM-Relaxation: 1.1798\n"
     ]
    }
   ],
   "source": [
    "# Calculate in-sample error rates\n",
    "treatment_time = y_pre.shape[0]\n",
    "ER_scm = np.mean((results['scm']['predictions'][:treatment_time] - y_pre)**2)\n",
    "ER_EL = np.mean((results['EL']['predictions'][:treatment_time] - y_pre)**2)\n",
    "ER_entropy = np.mean((results['entropy']['predictions'][:treatment_time] - y_pre)**2)\n",
    "ER_l2 = np.mean((results['l2']['predictions'][:treatment_time] - y_pre)**2)\n",
    "\n",
    "print(\"In-sample Empirical Risks:\")\n",
    "print(f\"SCM: {ER_scm:.4f}\")\n",
    "print(f\"EL-SCM-Relaxation: {ER_EL:.4f}\")\n",
    "print(f\"Entropy-SCM-Relaxation: {ER_entropy:.4f}\")\n",
    "print(f\"L2-SCM-Relaxation: {ER_l2:.4f}\")"
   ]
  },
  {
   "cell_type": "markdown",
   "metadata": {},
   "source": [
    "## Plot the gap between realized growth rate and fitted growth rate"
   ]
  },
  {
   "cell_type": "code",
   "execution_count": 7,
   "metadata": {},
   "outputs": [
    {
     "ename": "NameError",
     "evalue": "name 'y' is not defined",
     "output_type": "error",
     "traceback": [
      "\u001b[1;31m---------------------------------------------------------------------------\u001b[0m",
      "\u001b[1;31mNameError\u001b[0m                                 Traceback (most recent call last)",
      "Cell \u001b[1;32mIn[7], line 10\u001b[0m\n\u001b[0;32m      7\u001b[0m color_treatment \u001b[38;5;241m=\u001b[39m \u001b[38;5;124m'\u001b[39m\u001b[38;5;124m#1f77b4\u001b[39m\u001b[38;5;124m'\u001b[39m\n\u001b[0;32m      9\u001b[0m \u001b[38;5;66;03m# Convert to time series\u001b[39;00m\n\u001b[1;32m---> 10\u001b[0m y \u001b[38;5;241m=\u001b[39m pd\u001b[38;5;241m.\u001b[39mSeries(\u001b[43my\u001b[49m, index\u001b[38;5;241m=\u001b[39mGDP_growth\u001b[38;5;241m.\u001b[39mindex)\n\u001b[0;32m     11\u001b[0m y_fit_scm \u001b[38;5;241m=\u001b[39m pd\u001b[38;5;241m.\u001b[39mSeries(results[\u001b[38;5;124m'\u001b[39m\u001b[38;5;124mscm\u001b[39m\u001b[38;5;124m'\u001b[39m][\u001b[38;5;124m'\u001b[39m\u001b[38;5;124mpredictions\u001b[39m\u001b[38;5;124m'\u001b[39m], index\u001b[38;5;241m=\u001b[39mGDP_growth\u001b[38;5;241m.\u001b[39mindex)\n\u001b[0;32m     12\u001b[0m y_fit_EL \u001b[38;5;241m=\u001b[39m pd\u001b[38;5;241m.\u001b[39mSeries(results[\u001b[38;5;124m'\u001b[39m\u001b[38;5;124mEL\u001b[39m\u001b[38;5;124m'\u001b[39m][\u001b[38;5;124m'\u001b[39m\u001b[38;5;124mpredictions\u001b[39m\u001b[38;5;124m'\u001b[39m], index\u001b[38;5;241m=\u001b[39mGDP_growth\u001b[38;5;241m.\u001b[39mindex)\n",
      "\u001b[1;31mNameError\u001b[0m: name 'y' is not defined"
     ]
    }
   ],
   "source": [
    "# define some colors\n",
    "color_SCM = '#59B78F'\n",
    "color_L2 = '#6A8EC9'\n",
    "color_EL = '#7A378A'\n",
    "color_entropy = '#E84446'\n",
    "color_real = '#1f77b4'\n",
    "color_treatment = '#1f77b4'\n",
    "\n",
    "# Convert to time series\n",
    "y = pd.Series(y, index=GDP_growth.index)\n",
    "y_fit_scm = pd.Series(results['scm']['predictions'], index=GDP_growth.index)\n",
    "y_fit_EL = pd.Series(results['EL']['predictions'], index=GDP_growth.index)\n",
    "y_fit_entropy = pd.Series(results['entropy']['predictions'], index=GDP_growth.index)\n",
    "y_fit_l2 = pd.Series(results['l2']['predictions'], index=GDP_growth.index)\n",
    "\n",
    "# Create figure with style guide settings\n",
    "plt.figure(figsize=(12, 6))\n",
    "\n",
    "# Plot all differences with enhanced distinction\n",
    "# SCM: solid line with markers\n",
    "plt.plot(y-y_fit_scm, color=color_SCM, label=f'SCM (ER: {round(ER_scm, 4)})', \n",
    "         linewidth=2, linestyle='-', marker='o', markersize=4, markevery=2)\n",
    "\n",
    "# L2: dash-dot line with squares\n",
    "plt.plot(y-y_fit_l2, color=color_L2, label=f'$L_2$ (ER: {round(ER_l2, 4)})', \n",
    "         linewidth=2, linestyle='-.', marker='s', markersize=4, markevery=2)\n",
    "\n",
    "# EL: dashed line with triangles\n",
    "plt.plot(y-y_fit_EL, color=color_EL, label=f'EL (ER: {round(ER_EL, 4)})', \n",
    "         linewidth=2, linestyle='--', marker='^', markersize=4, markevery=2)\n",
    "\n",
    "# Entropy: dotted line with diamonds\n",
    "plt.plot(y-y_fit_entropy, color=color_entropy, label=f'Entropy (ER: {round(ER_entropy, 4)})', \n",
    "         linewidth=2, linestyle=':', marker='D', markersize=4, markevery=2)\n",
    "\n",
    "\n",
    "# Add y-axis label\n",
    "plt.ylabel('(%)', fontsize=12, color = '#1f77b4')\n",
    "\n",
    "# Add treatment line\n",
    "treatment_date = GDP_growth.index[treatment_time]\n",
    "plt.axvline(x=treatment_date, color=color_treatment, linestyle='--', label='2016Q3', linewidth=2)\n",
    "\n",
    "# Add zero line\n",
    "plt.axhline(y=0, color='grey', linestyle='--', alpha=0.5)\n",
    "\n",
    "# Add legend with enhanced visibility\n",
    "plt.legend(\n",
    "    loc='upper center',\n",
    "    bbox_to_anchor=(0.5, -0.05),\n",
    "    ncol=3,\n",
    "    fontsize=14,\n",
    "    frameon=True,\n",
    "    facecolor='white',\n",
    "    edgecolor='none',\n",
    "    markerscale=1.5  # Make markers larger in legend\n",
    ")\n",
    "\n",
    "# Add grid with reduced opacity\n",
    "plt.grid(True, linestyle='--', alpha=0.3)\n",
    "\n",
    "# Remove top and right spines\n",
    "plt.gca().spines['top'].set_visible(False)\n",
    "plt.gca().spines['right'].set_visible(False)\n",
    "\n",
    "# Adjust layout\n",
    "plt.tight_layout()\n",
    "plt.show()\n"
   ]
  }
 ],
 "metadata": {
  "kernelspec": {
   "display_name": "Python 3",
   "language": "python",
   "name": "python3"
  },
  "language_info": {
   "codemirror_mode": {
    "name": "ipython",
    "version": 3
   },
   "file_extension": ".py",
   "mimetype": "text/x-python",
   "name": "python",
   "nbconvert_exporter": "python",
   "pygments_lexer": "ipython3",
   "version": "3.9.18"
  }
 },
 "nbformat": 4,
 "nbformat_minor": 4
}
